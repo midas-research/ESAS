{
 "cells": [
  {
   "cell_type": "markdown",
   "metadata": {},
   "source": [
    "### Load model"
   ]
  },
  {
   "cell_type": "code",
   "execution_count": 2,
   "metadata": {},
   "outputs": [],
   "source": [
    "from gensim.models.doc2vec import Doc2Vec\n",
    "from nltk.tokenize import sent_tokenize, word_tokenize\n",
    "import numpy as np\n",
    "\n",
    "#load pretrained model\n",
    "\n",
    "model = Doc2Vec.load('../data/embeddings/enwiki_dbow/doc2vec.bin')"
   ]
  },
  {
   "cell_type": "markdown",
   "metadata": {},
   "source": [
    "### Take the sample given answers"
   ]
  },
  {
   "cell_type": "code",
   "execution_count": 4,
   "metadata": {},
   "outputs": [],
   "source": [
    "sample_res_1=\"You need to know how much vinegar was used in each container.You need to know what type of vinegar was used in each container.You need to know what materials to test.You need to know what size/surface area of materials should be used.You need to know how long each sample was rinsed in distilled water.You need to know what drying method to use.You need to know what size/type of container to use.Other acceptable responses.\"\n",
    "sample_res_2 = \"Plastic sample B has more stretchability than the other polymer plastics.Plastic sample A has the least amount of stretchability compared to the other polymer plastics.Not all polymer plastics have the same stretchability.Different polymer plastics have different stretchability (and are therefore suited for different applications)A reasonable conclusion cannot be drawn due to procedural errors.Provide the before and after measurements for length (Did the samples all start out the same size?).Make sure the samples are all of the same thickness. Variations in thickness could have caused variations in stretchability.Perform additional trials. Some of the samples have similar stretchability (A and C, B and D). Two trials may not be enough to conclusively state that one is more stretchable than the other.Indicate how many weights were added to the clamps (Was it the same number for each sample?).\"\n",
    "sample_res_3 = \"Pandas in China only eat bamboo and Koalas in Australia eat exclusively eucalyptus leaves. They are both restricted to one food while pythons eat a varity of foods potentially harming native species.Panda's are similar to Koala's by they are both specialist species. They only survive in certain conditions. They are not able to adapt very well and can only eat and live in certain climates. They are both different form pythons by they are not reptiles. Also a python is a generalist specie and can easily adapt to change. They eat a variety of foods, and accept change.Pandas in China only eat bamboo and Koalas in Australia eat exclusively eucalyptus leaves. They are both restricted to one food while pythons eat a varity of foods potentially harming native species.Panda's are similar to Koala's by they are both specialist species. They only survive in certain conditions. They are not able to adapt very well and can only eat and live in certain climates. They are both different form pythons by they are not reptiles. Also a python is a generalist specie and can easily adapt to change. They eat a variety of foods, and accept change.\"\n",
    "sample_res_4 = \"The word invasive is very important to the article and also explains alot about the way the animals act in the area. Without any natural predators the pythons living in the everglades have nothing to kill them to keep their population down. This makes them 'invasive' because they are taking over a once stable environment.The word 'invasive' means intruding. Invasive species, like the python in the everglades are beginning to threat native species. They are new animals that threat biodiversity. These animals can cause animals to become extinct and are generalist so they can adapt to different environments and affect other people and organism's in and existence.The word invasive is very important to the article and also explains alot about the way the animals act in the area. Without any natural predators the pythons living in the everglades have nothing to kill them to keep their population down. This makes them 'invasive' because they are taking over a once stable environment.The word 'invasive' means intruding. Invasive species, like the python in the everglades are beginning to threat native species. They are new animals that threat biodiversity. These animals can cause animals to become extinct and are generalist so they can adapt to different environments and affect other people and organism's in and existence.\"\n",
    "sample_res_5 = \"mRNA exits nucleus via nuclear pore.mRNA travels through the cytoplasm to the ribosome or enters the rough endoplasmic reticulum.mRNA bases are read in triplets called codons (by rRNA).tRNA carrying the complementary (U=A, C+G) anticodon recognizes the complementary codon of the mRNA.The corresponding amino acids on the other end of the tRNA are bonded to adjacent tRNA’s amino acids.A new corresponding amino acid is added to the tRNA.Amino acids are linked together to make a protein beginning with a START codon in the P site (initiation).Amino acids continue to be linked until a STOP codon is read on the mRNA in the A site (elongation and termination).\"\n",
    "sample_res_6 = \"Selective permeability is used by the cell membrane to allow certain substances to move across.Passive transport occurs when substances move from an area of higher concentration to an area of lower concentration.Osmosis is the diffusion of water across the cell membrane.Facilitated diffusion occurs when the membrane controls the pathway for a particle to enter or leave a cell.Active transport occurs when a cell uses energy to move a substance across the cell membrane, and/or a substance moves from an area of low to high concentration, or against the concentration gradient.Pumps are used to move charged particles like sodium and potassium ions through membranes using energy and carrier proteins.Membrane-assisted transport occurs when the membrane of the vesicle fuses with the cell membrane forcing large molecules out of the cell as in exocytosis.Membrane-assisted transport occurs when molecules are engulfed by the cell membrane as in endocytosis.Membrane-assisted transport occurs when vesicles are formed around large molecules as in phagocytosis.Membrane-assisted transport occurs when vesicles are formed around liquid droplets as in pinocytosis.Protein channels or channel proteins allow for the movement of specific molecules or substances into or out of the cell.\"\n",
    "sample_res_7 = \"Rose is thoughtful and caring.  She has plenty of topics or activities in her life that she could be complaining about; however she puts others before herself.       For example in the story Aunt Kolab asks Rose if the work she does to help the family 'weighs her down'.  Rose did not want to tell her the truth because she did not want to hurt her aunt.  Therefore, one can see Rose cares about others emotions and can be characterized as thoughtful.One trait that describes Rose is understanding. When she was talking to Anna, Anna was saying that she is lonesome for Papa and that it feels like he has been gone for years. Rose understands that even though it hurts his family emotionally, Papa had to take the job in Los Angeles to give his family a better life. She says to Anna that it has only been four months since he left and that he gets paid three times what he was making there.Rose is thoughtful and caring.  She has plenty of topics or activities in her life that she could be complaining about; however she puts others before herself.       For example in the story Aunt Kolab asks Rose if the work she does to help the family 'weighs her down'.  Rose did not want to tell her the truth because she did not want to hurt her aunt.  Therefore, one can see Rose cares about others emotions and can be characterized as thoughtful.One trait that describes Rose is understanding. When she was talking to Anna, Anna was saying that she is lonesome for Papa and that it feels like he has been gone for years. Rose understands that even though it hurts his family emotionally, Papa had to take the job in Los Angeles to give his family a better life. She says to Anna that it has only been four months since he left and that he gets paid three times what he was making there.\"\n",
    "sample_res_8 = \"Paul finds out that Mr. Leonard was a track star but he could not read. 'No school wanted a runner who couldn't read.' Paul listened to Mr. Leonard about his past and realized that is was similiar to his present. Paul decided that because Mr. Leonard had helped him with track that he needed to help Mr. Leonard out with his reading. 'C'mon, Mr. Leonard, it's time to start your training.'The background information about Mr. Leonard relates to paul because they both couldnt read very good and mr. Leonard wants paul to to do better in life then what he did. it effects paul by making him want to try hard in track and school.Paul finds out that Mr. Leonard was a track star but he could not read. 'No school wanted a runner who couldn't read.' Paul listened to Mr. Leonard about his past and realized that is was similiar to his present. Paul decided that because Mr. Leonard had helped him with track that he needed to help Mr. Leonard out with his reading. 'C'mon, Mr. Leonard, it's time to start your training.'The background information about Mr. Leonard relates to paul because they both couldnt read very good and mr. Leonard wants paul to to do better in life then what he did. it effects paul by making him want to try hard in track and school.\"\n",
    "sample_res_9 = \"The author organizes the article by catching your attention with shocking statements made in the introduction.  After that, the author explains three different problems that space junk creates.  At the end the author summarizes the article with a conclusion.The author organizes the article by first letting the readers know what space junk was. How Space junk is formed and what happens to the debris in space.The author organizes the article by catching your attention with shocking statements made in the introduction.  After that, the author explains three different problems that space junk creates.  At the end the author summarizes the article with a conclusion.The author organizes the article by first letting the readers know what space junk was. How Space junk is formed and what happens to the debris in space.\"\n",
    "sample_res_10 = \"Black :: The doghouse will be warmer.The black lid made the jar warmest.Dark gray :: The inside will be a little warmer, but not too hot.\tThe dark gray lid increased 6º C more than the white.Light gray::The inside will stay cooler, but not too cool.\tThe light gray lid was 8º C cooler than the black.White::The inside will be cooler.The white lid only went up to 42º C.\""
   ]
  },
  {
   "cell_type": "code",
   "execution_count": 5,
   "metadata": {},
   "outputs": [],
   "source": [
    "sample_res_1 = word_tokenize(sample_res_1.lower())\n",
    "sample_res_2 = word_tokenize(sample_res_2.lower())\n",
    "sample_res_3 = word_tokenize(sample_res_3.lower())\n",
    "sample_res_4 = word_tokenize(sample_res_4.lower())\n",
    "sample_res_5 = word_tokenize(sample_res_5.lower())\n",
    "sample_res_6 = word_tokenize(sample_res_6.lower())\n",
    "sample_res_7 = word_tokenize(sample_res_7.lower())\n",
    "sample_res_8 = word_tokenize(sample_res_8.lower())\n",
    "sample_res_9 = word_tokenize(sample_res_9.lower())\n",
    "sample_res_10 = word_tokenize(sample_res_10.lower())"
   ]
  },
  {
   "cell_type": "code",
   "execution_count": 6,
   "metadata": {},
   "outputs": [],
   "source": [
    "sample_res_1_vec = model.infer_vector(sample_res_1)\n",
    "sample_res_2_vec = model.infer_vector(sample_res_2)\n",
    "sample_res_3_vec = model.infer_vector(sample_res_3)\n",
    "sample_res_4_vec = model.infer_vector(sample_res_4)\n",
    "sample_res_5_vec = model.infer_vector(sample_res_5)\n",
    "sample_res_6_vec = model.infer_vector(sample_res_6)\n",
    "sample_res_7_vec = model.infer_vector(sample_res_7)\n",
    "sample_res_8_vec = model.infer_vector(sample_res_8)\n",
    "sample_res_9_vec = model.infer_vector(sample_res_9)\n",
    "sample_res_10_vec = model.infer_vector(sample_res_10)"
   ]
  },
  {
   "cell_type": "markdown",
   "metadata": {},
   "source": [
    "### calculate cosine similarity depending on each response with sample response"
   ]
  },
  {
   "cell_type": "code",
   "execution_count": 9,
   "metadata": {},
   "outputs": [],
   "source": [
    "import pandas as pd\n",
    "data = pd.read_table('../data/train_rel_2.tsv')\n",
    "\n",
    "import numpy as np\n",
    "from scipy import spatial\n",
    "score_matrix = np.zeros(shape=(len(data),10))\n",
    "count = -1\n",
    "length = 0\n",
    "sample_res_overlap = []\n",
    "# question_overlap = []\n",
    "for row in data.iterrows():\n",
    "    count = count + 1\n",
    "    sent = row[1][\"EssayText\"]\n",
    "    ans_set = row[1][\"EssaySet\"]\n",
    "    sent = word_tokenize(sent)\n",
    "    sent_vector = model.infer_vector(sent)\n",
    "\n",
    "    if ans_set == 1:\n",
    "\n",
    "        sample_res_overlap.append( spatial.distance.cosine(sent_vector, sample_res_1_vec))\n",
    "      \n",
    "    if ans_set == 2:\n",
    "      \n",
    "        sample_res_overlap.append( spatial.distance.cosine(sent_vector, sample_res_2_vec))\n",
    "        \n",
    "    if ans_set == 3:\n",
    "        \n",
    "        sample_res_overlap.append( spatial.distance.cosine(sent_vector, sample_res_3_vec))\n",
    "\n",
    "    if ans_set == 4:\n",
    "       \n",
    "        sample_res_overlap.append( spatial.distance.cosine(sent_vector, sample_res_4_vec))\n",
    "\n",
    "    if ans_set == 5:\n",
    "\n",
    "        sample_res_overlap.append( spatial.distance.cosine(sent_vector, sample_res_5_vec))\n",
    "    if ans_set == 6:\n",
    " \n",
    "        sample_res_overlap.append( spatial.distance.cosine(sent_vector, sample_res_6_vec))\n",
    "#        \n",
    "    if ans_set == 7:\n",
    "  \n",
    "        sample_res_overlap.append( spatial.distance.cosine(sent_vector, sample_res_7_vec))\n",
    "#         \n",
    "    if ans_set == 8:\n",
    "\n",
    "        sample_res_overlap.append( spatial.distance.cosine(sent_vector, sample_res_8_vec))\n",
    "#        \n",
    "    if ans_set == 9:\n",
    "\n",
    "        sample_res_overlap.append( spatial.distance.cosine(sent_vector, sample_res_9_vec))\n",
    "# \n",
    "    if ans_set == 10:\n",
    "\n",
    "        sample_res_overlap.append( spatial.distance.cosine(sent_vector, sample_res_10_vec))"
   ]
  },
  {
   "cell_type": "code",
   "execution_count": null,
   "metadata": {},
   "outputs": [],
   "source": [
    "np.save('doc2vec_feature3', np.array(sample_res_overlap))"
   ]
  }
 ],
 "metadata": {
  "kernelspec": {
   "display_name": "Python 3",
   "language": "python",
   "name": "python3"
  },
  "language_info": {
   "codemirror_mode": {
    "name": "ipython",
    "version": 3
   },
   "file_extension": ".py",
   "mimetype": "text/x-python",
   "name": "python",
   "nbconvert_exporter": "python",
   "pygments_lexer": "ipython3",
   "version": "3.6.5"
  }
 },
 "nbformat": 4,
 "nbformat_minor": 4
}
